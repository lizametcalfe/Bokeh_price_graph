{
 "cells": [
  {
   "cell_type": "code",
   "execution_count": 1,
   "metadata": {
    "collapsed": false
   },
   "outputs": [
    {
     "name": "stdout",
     "output_type": "stream",
     "text": [
      "Populating the interactive namespace from numpy and matplotlib\n"
     ]
    }
   ],
   "source": [
    "#Bokeh graph of price indices\n",
    "\n",
    "%pylab inline\n",
    "%matplotlib inline"
   ]
  },
  {
   "cell_type": "code",
   "execution_count": 2,
   "metadata": {
    "collapsed": false,
    "scrolled": false
   },
   "outputs": [],
   "source": [
    "import pandas as pd\n",
    "\n",
    "df = pd.read_csv('/home/mint/my-data/Web scraped CPI/Bohek graphes/Whiskey.csv')\n",
    "df = df.ix[0:20,0:9]"
   ]
  },
  {
   "cell_type": "code",
   "execution_count": 3,
   "metadata": {
    "collapsed": false
   },
   "outputs": [],
   "source": [
    "y0 = df[\"Unit_alc\"]\n",
    "#ff0 = df[\"Unit_food\"]\n",
    "y1 =df[\"CPI_alc\"]\n",
    "#ff1 =df[\"CPI_food\"]\n",
    "y2 = df[\"Chained_alc\"]\n",
    "#ff2 = df[\"Chained_food\"]\n",
    "#y3 = df[\"CLIP_alc\"]\n",
    "#ff3 = df[\"CLIP_food\"]\n",
    "\n",
    "from bokeh.plotting import figure, output_file, show\n",
    "import numpy as np\n",
    "from bokeh.plotting import *\n",
    "\n",
    "from bokeh.models.widgets import Panel, Tabs\n",
    "from bokeh.io import output_file, show\n",
    "from bokeh.plotting import figure\n",
    "\n",
    "from datetime import date\n",
    "from random import randint\n",
    "\n",
    "from bokeh.models import ColumnDataSource\n",
    "from bokeh.models.widgets import DataTable, DateFormatter, TableColumn\n",
    "from bokeh.io import output_file, show, vform\n",
    "\n",
    "# output to static HTML file\n",
    "output_file(\"Dailychainedresults.html\")\n",
    "\n",
    "datess = df[\"Unnamed: 0\"].apply(lambda x: str(x)[0:4]+\"-\"+str(x)[4:6])\n",
    "x = np.array(datess, dtype=np.datetime64())\n",
    "\n",
    "#sourcep = ColumnDataSource(data=dict(x=x, y0=y0, y1=y1, y2=y2, y3=y3))\n",
    "\n",
    "TOOLS = \"pan,wheel_zoom,box_zoom,reset,save,box_select,lasso_select\"\n",
    "\n",
    "# create a new plot\n",
    "p0 = figure(width=800, height=650,\n",
    "   tools=\"pan,box_zoom,reset,save\",\n",
    "   title=\"Whisky\",\n",
    "   x_axis_label='Day', y_axis_label='Price index',\n",
    "    x_axis_type=\"datetime\"\n",
    ")\n",
    "#clip vs dailychained\n",
    "# add some renderers\n",
    "p0.line(x, y2, legend=\"Daily chained\", color = \"purple\")\n",
    "p0.circle(x, y2, legend=\"Daily chained\", fill_color=\"white\", line_color=\"purple\", size=8)\n",
    "#p0.line(x, y3, legend = \"CLIP\", color=\"blue\")\n",
    "#p0.circle(x, y3, legend = \"CLIP\", fill_color=\"blue\", line_color=\"blue\",size =8)\n",
    "p0.line(x, y0, legend=\"Unit price\", color = \"red\")\n",
    "p0.line(x, y1, legend=\"CPI published\", color = \"green\")\n",
    "p0.circle(x, y1, legend=\"CPI published\", fill_color=\"white\", line_color=\"green\", size=8)\n",
    "\n",
    "tabalc0 = Panel(child=p0, title=\"All\")\n",
    "\n",
    "\n",
    "#v4=vplot(v3,w)\n",
    "\n",
    "show(p0)"
   ]
  },
  {
   "cell_type": "code",
   "execution_count": null,
   "metadata": {
    "collapsed": true
   },
   "outputs": [],
   "source": []
  },
  {
   "cell_type": "code",
   "execution_count": null,
   "metadata": {
    "collapsed": true
   },
   "outputs": [],
   "source": []
  },
  {
   "cell_type": "code",
   "execution_count": null,
   "metadata": {
    "collapsed": true
   },
   "outputs": [],
   "source": []
  }
 ],
 "metadata": {
  "kernelspec": {
   "display_name": "Python 2",
   "language": "python",
   "name": "python2"
  },
  "language_info": {
   "codemirror_mode": {
    "name": "ipython",
    "version": 2
   },
   "file_extension": ".py",
   "mimetype": "text/x-python",
   "name": "python",
   "nbconvert_exporter": "python",
   "pygments_lexer": "ipython2",
   "version": "2.7.12"
  }
 },
 "nbformat": 4,
 "nbformat_minor": 0
}
